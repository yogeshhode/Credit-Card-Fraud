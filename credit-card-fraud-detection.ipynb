{
 "cells": [
  {
   "cell_type": "markdown",
   "metadata": {},
   "source": [
    "# 2. Importing Required Packages"
   ]
  },
  {
   "cell_type": "code",
   "execution_count": 1,
   "metadata": {
    "execution": {
     "iopub.execute_input": "2023-09-15T20:29:12.539346Z",
     "iopub.status.busy": "2023-09-15T20:29:12.538442Z",
     "iopub.status.idle": "2023-09-15T20:29:12.555347Z",
     "shell.execute_reply": "2023-09-15T20:29:12.554298Z",
     "shell.execute_reply.started": "2023-09-15T20:29:12.539311Z"
    }
   },
   "outputs": [],
   "source": [
    "import warnings\n",
    "warnings.filterwarnings('ignore')"
   ]
  },
  {
   "cell_type": "code",
   "execution_count": 2,
   "metadata": {
    "execution": {
     "iopub.execute_input": "2023-09-15T20:29:12.588578Z",
     "iopub.status.busy": "2023-09-15T20:29:12.588106Z",
     "iopub.status.idle": "2023-09-15T20:29:12.599232Z",
     "shell.execute_reply": "2023-09-15T20:29:12.597991Z",
     "shell.execute_reply.started": "2023-09-15T20:29:12.588545Z"
    }
   },
   "outputs": [],
   "source": [
    "import numpy as np\n",
    "import pandas as pd\n",
    "import matplotlib.pyplot as plt\n",
    "%matplotlib inline\n",
    "import seaborn as sns\n",
    "from sklearn.model_selection import train_test_split\n",
    "from sklearn.linear_model import LogisticRegression\n",
    "from sklearn.tree import DecisionTreeClassifier\n",
    "from sklearn.ensemble import RandomForestClassifier\n",
    "from sklearn.preprocessing import StandardScaler\n",
    "from sklearn.metrics import accuracy_score, confusion_matrix, classification_report\n",
    "from imblearn.over_sampling import SMOTE"
   ]
  },
  {
   "cell_type": "markdown",
   "metadata": {},
   "source": [
    "# 3. Reading Dataset"
   ]
  },
  {
   "cell_type": "code",
   "execution_count": 3,
   "metadata": {
    "execution": {
     "iopub.execute_input": "2023-09-15T20:29:12.602260Z",
     "iopub.status.busy": "2023-09-15T20:29:12.601793Z",
     "iopub.status.idle": "2023-09-15T20:29:17.044001Z",
     "shell.execute_reply": "2023-09-15T20:29:17.042495Z",
     "shell.execute_reply.started": "2023-09-15T20:29:12.602221Z"
    },
    "scrolled": false
   },
   "outputs": [],
   "source": [
    "df = pd.read_csv(\"creditcard.csv\")"
   ]
  },
  {
   "cell_type": "code",
   "execution_count": 4,
   "metadata": {
    "execution": {
     "iopub.execute_input": "2023-09-15T20:29:17.047144Z",
     "iopub.status.busy": "2023-09-15T20:29:17.046024Z",
     "iopub.status.idle": "2023-09-15T20:29:17.080463Z",
     "shell.execute_reply": "2023-09-15T20:29:17.079102Z",
     "shell.execute_reply.started": "2023-09-15T20:29:17.047103Z"
    }
   },
   "outputs": [
    {
     "data": {
      "text/html": [
       "<div>\n",
       "<style scoped>\n",
       "    .dataframe tbody tr th:only-of-type {\n",
       "        vertical-align: middle;\n",
       "    }\n",
       "\n",
       "    .dataframe tbody tr th {\n",
       "        vertical-align: top;\n",
       "    }\n",
       "\n",
       "    .dataframe thead th {\n",
       "        text-align: right;\n",
       "    }\n",
       "</style>\n",
       "<table border=\"1\" class=\"dataframe\">\n",
       "  <thead>\n",
       "    <tr style=\"text-align: right;\">\n",
       "      <th></th>\n",
       "      <th>Time</th>\n",
       "      <th>V1</th>\n",
       "      <th>V2</th>\n",
       "      <th>V3</th>\n",
       "      <th>V4</th>\n",
       "      <th>V5</th>\n",
       "      <th>V6</th>\n",
       "      <th>V7</th>\n",
       "      <th>V8</th>\n",
       "      <th>V9</th>\n",
       "      <th>...</th>\n",
       "      <th>V21</th>\n",
       "      <th>V22</th>\n",
       "      <th>V23</th>\n",
       "      <th>V24</th>\n",
       "      <th>V25</th>\n",
       "      <th>V26</th>\n",
       "      <th>V27</th>\n",
       "      <th>V28</th>\n",
       "      <th>Amount</th>\n",
       "      <th>Class</th>\n",
       "    </tr>\n",
       "  </thead>\n",
       "  <tbody>\n",
       "    <tr>\n",
       "      <th>0</th>\n",
       "      <td>0.0</td>\n",
       "      <td>-1.359807</td>\n",
       "      <td>-0.072781</td>\n",
       "      <td>2.536347</td>\n",
       "      <td>1.378155</td>\n",
       "      <td>-0.338321</td>\n",
       "      <td>0.462388</td>\n",
       "      <td>0.239599</td>\n",
       "      <td>0.098698</td>\n",
       "      <td>0.363787</td>\n",
       "      <td>...</td>\n",
       "      <td>-0.018307</td>\n",
       "      <td>0.277838</td>\n",
       "      <td>-0.110474</td>\n",
       "      <td>0.066928</td>\n",
       "      <td>0.128539</td>\n",
       "      <td>-0.189115</td>\n",
       "      <td>0.133558</td>\n",
       "      <td>-0.021053</td>\n",
       "      <td>149.62</td>\n",
       "      <td>0</td>\n",
       "    </tr>\n",
       "    <tr>\n",
       "      <th>1</th>\n",
       "      <td>0.0</td>\n",
       "      <td>1.191857</td>\n",
       "      <td>0.266151</td>\n",
       "      <td>0.166480</td>\n",
       "      <td>0.448154</td>\n",
       "      <td>0.060018</td>\n",
       "      <td>-0.082361</td>\n",
       "      <td>-0.078803</td>\n",
       "      <td>0.085102</td>\n",
       "      <td>-0.255425</td>\n",
       "      <td>...</td>\n",
       "      <td>-0.225775</td>\n",
       "      <td>-0.638672</td>\n",
       "      <td>0.101288</td>\n",
       "      <td>-0.339846</td>\n",
       "      <td>0.167170</td>\n",
       "      <td>0.125895</td>\n",
       "      <td>-0.008983</td>\n",
       "      <td>0.014724</td>\n",
       "      <td>2.69</td>\n",
       "      <td>0</td>\n",
       "    </tr>\n",
       "    <tr>\n",
       "      <th>2</th>\n",
       "      <td>1.0</td>\n",
       "      <td>-1.358354</td>\n",
       "      <td>-1.340163</td>\n",
       "      <td>1.773209</td>\n",
       "      <td>0.379780</td>\n",
       "      <td>-0.503198</td>\n",
       "      <td>1.800499</td>\n",
       "      <td>0.791461</td>\n",
       "      <td>0.247676</td>\n",
       "      <td>-1.514654</td>\n",
       "      <td>...</td>\n",
       "      <td>0.247998</td>\n",
       "      <td>0.771679</td>\n",
       "      <td>0.909412</td>\n",
       "      <td>-0.689281</td>\n",
       "      <td>-0.327642</td>\n",
       "      <td>-0.139097</td>\n",
       "      <td>-0.055353</td>\n",
       "      <td>-0.059752</td>\n",
       "      <td>378.66</td>\n",
       "      <td>0</td>\n",
       "    </tr>\n",
       "    <tr>\n",
       "      <th>3</th>\n",
       "      <td>1.0</td>\n",
       "      <td>-0.966272</td>\n",
       "      <td>-0.185226</td>\n",
       "      <td>1.792993</td>\n",
       "      <td>-0.863291</td>\n",
       "      <td>-0.010309</td>\n",
       "      <td>1.247203</td>\n",
       "      <td>0.237609</td>\n",
       "      <td>0.377436</td>\n",
       "      <td>-1.387024</td>\n",
       "      <td>...</td>\n",
       "      <td>-0.108300</td>\n",
       "      <td>0.005274</td>\n",
       "      <td>-0.190321</td>\n",
       "      <td>-1.175575</td>\n",
       "      <td>0.647376</td>\n",
       "      <td>-0.221929</td>\n",
       "      <td>0.062723</td>\n",
       "      <td>0.061458</td>\n",
       "      <td>123.50</td>\n",
       "      <td>0</td>\n",
       "    </tr>\n",
       "    <tr>\n",
       "      <th>4</th>\n",
       "      <td>2.0</td>\n",
       "      <td>-1.158233</td>\n",
       "      <td>0.877737</td>\n",
       "      <td>1.548718</td>\n",
       "      <td>0.403034</td>\n",
       "      <td>-0.407193</td>\n",
       "      <td>0.095921</td>\n",
       "      <td>0.592941</td>\n",
       "      <td>-0.270533</td>\n",
       "      <td>0.817739</td>\n",
       "      <td>...</td>\n",
       "      <td>-0.009431</td>\n",
       "      <td>0.798278</td>\n",
       "      <td>-0.137458</td>\n",
       "      <td>0.141267</td>\n",
       "      <td>-0.206010</td>\n",
       "      <td>0.502292</td>\n",
       "      <td>0.219422</td>\n",
       "      <td>0.215153</td>\n",
       "      <td>69.99</td>\n",
       "      <td>0</td>\n",
       "    </tr>\n",
       "  </tbody>\n",
       "</table>\n",
       "<p>5 rows × 31 columns</p>\n",
       "</div>"
      ],
      "text/plain": [
       "   Time        V1        V2        V3        V4        V5        V6        V7  \\\n",
       "0   0.0 -1.359807 -0.072781  2.536347  1.378155 -0.338321  0.462388  0.239599   \n",
       "1   0.0  1.191857  0.266151  0.166480  0.448154  0.060018 -0.082361 -0.078803   \n",
       "2   1.0 -1.358354 -1.340163  1.773209  0.379780 -0.503198  1.800499  0.791461   \n",
       "3   1.0 -0.966272 -0.185226  1.792993 -0.863291 -0.010309  1.247203  0.237609   \n",
       "4   2.0 -1.158233  0.877737  1.548718  0.403034 -0.407193  0.095921  0.592941   \n",
       "\n",
       "         V8        V9  ...       V21       V22       V23       V24       V25  \\\n",
       "0  0.098698  0.363787  ... -0.018307  0.277838 -0.110474  0.066928  0.128539   \n",
       "1  0.085102 -0.255425  ... -0.225775 -0.638672  0.101288 -0.339846  0.167170   \n",
       "2  0.247676 -1.514654  ...  0.247998  0.771679  0.909412 -0.689281 -0.327642   \n",
       "3  0.377436 -1.387024  ... -0.108300  0.005274 -0.190321 -1.175575  0.647376   \n",
       "4 -0.270533  0.817739  ... -0.009431  0.798278 -0.137458  0.141267 -0.206010   \n",
       "\n",
       "        V26       V27       V28  Amount  Class  \n",
       "0 -0.189115  0.133558 -0.021053  149.62      0  \n",
       "1  0.125895 -0.008983  0.014724    2.69      0  \n",
       "2 -0.139097 -0.055353 -0.059752  378.66      0  \n",
       "3 -0.221929  0.062723  0.061458  123.50      0  \n",
       "4  0.502292  0.219422  0.215153   69.99      0  \n",
       "\n",
       "[5 rows x 31 columns]"
      ]
     },
     "execution_count": 4,
     "metadata": {},
     "output_type": "execute_result"
    }
   ],
   "source": [
    "df.head()"
   ]
  },
  {
   "cell_type": "markdown",
   "metadata": {},
   "source": [
    "# 4. EDA"
   ]
  },
  {
   "cell_type": "code",
   "execution_count": 5,
   "metadata": {
    "execution": {
     "iopub.execute_input": "2023-09-15T20:29:17.082981Z",
     "iopub.status.busy": "2023-09-15T20:29:17.082303Z",
     "iopub.status.idle": "2023-09-15T20:29:17.146383Z",
     "shell.execute_reply": "2023-09-15T20:29:17.145386Z",
     "shell.execute_reply.started": "2023-09-15T20:29:17.082945Z"
    }
   },
   "outputs": [
    {
     "name": "stdout",
     "output_type": "stream",
     "text": [
      "<class 'pandas.core.frame.DataFrame'>\n",
      "RangeIndex: 284807 entries, 0 to 284806\n",
      "Data columns (total 31 columns):\n",
      " #   Column  Non-Null Count   Dtype  \n",
      "---  ------  --------------   -----  \n",
      " 0   Time    284807 non-null  float64\n",
      " 1   V1      284807 non-null  float64\n",
      " 2   V2      284807 non-null  float64\n",
      " 3   V3      284807 non-null  float64\n",
      " 4   V4      284807 non-null  float64\n",
      " 5   V5      284807 non-null  float64\n",
      " 6   V6      284807 non-null  float64\n",
      " 7   V7      284807 non-null  float64\n",
      " 8   V8      284807 non-null  float64\n",
      " 9   V9      284807 non-null  float64\n",
      " 10  V10     284807 non-null  float64\n",
      " 11  V11     284807 non-null  float64\n",
      " 12  V12     284807 non-null  float64\n",
      " 13  V13     284807 non-null  float64\n",
      " 14  V14     284807 non-null  float64\n",
      " 15  V15     284807 non-null  float64\n",
      " 16  V16     284807 non-null  float64\n",
      " 17  V17     284807 non-null  float64\n",
      " 18  V18     284807 non-null  float64\n",
      " 19  V19     284807 non-null  float64\n",
      " 20  V20     284807 non-null  float64\n",
      " 21  V21     284807 non-null  float64\n",
      " 22  V22     284807 non-null  float64\n",
      " 23  V23     284807 non-null  float64\n",
      " 24  V24     284807 non-null  float64\n",
      " 25  V25     284807 non-null  float64\n",
      " 26  V26     284807 non-null  float64\n",
      " 27  V27     284807 non-null  float64\n",
      " 28  V28     284807 non-null  float64\n",
      " 29  Amount  284807 non-null  float64\n",
      " 30  Class   284807 non-null  int64  \n",
      "dtypes: float64(30), int64(1)\n",
      "memory usage: 67.4 MB\n"
     ]
    }
   ],
   "source": [
    "df.info()"
   ]
  },
  {
   "cell_type": "code",
   "execution_count": 6,
   "metadata": {
    "execution": {
     "iopub.execute_input": "2023-09-15T20:29:17.151161Z",
     "iopub.status.busy": "2023-09-15T20:29:17.150299Z",
     "iopub.status.idle": "2023-09-15T20:29:17.160254Z",
     "shell.execute_reply": "2023-09-15T20:29:17.159017Z",
     "shell.execute_reply.started": "2023-09-15T20:29:17.151113Z"
    }
   },
   "outputs": [
    {
     "data": {
      "text/plain": [
       "Index(['Time', 'V1', 'V2', 'V3', 'V4', 'V5', 'V6', 'V7', 'V8', 'V9', 'V10',\n",
       "       'V11', 'V12', 'V13', 'V14', 'V15', 'V16', 'V17', 'V18', 'V19', 'V20',\n",
       "       'V21', 'V22', 'V23', 'V24', 'V25', 'V26', 'V27', 'V28', 'Amount',\n",
       "       'Class'],\n",
       "      dtype='object')"
      ]
     },
     "execution_count": 6,
     "metadata": {},
     "output_type": "execute_result"
    }
   ],
   "source": [
    "df.columns"
   ]
  },
  {
   "cell_type": "code",
   "execution_count": 7,
   "metadata": {
    "execution": {
     "iopub.execute_input": "2023-09-15T20:29:17.162761Z",
     "iopub.status.busy": "2023-09-15T20:29:17.162226Z",
     "iopub.status.idle": "2023-09-15T20:29:17.197194Z",
     "shell.execute_reply": "2023-09-15T20:29:17.195915Z",
     "shell.execute_reply.started": "2023-09-15T20:29:17.162726Z"
    }
   },
   "outputs": [
    {
     "data": {
      "text/plain": [
       "Time      0\n",
       "V1        0\n",
       "V2        0\n",
       "V3        0\n",
       "V4        0\n",
       "V5        0\n",
       "V6        0\n",
       "V7        0\n",
       "V8        0\n",
       "V9        0\n",
       "V10       0\n",
       "V11       0\n",
       "V12       0\n",
       "V13       0\n",
       "V14       0\n",
       "V15       0\n",
       "V16       0\n",
       "V17       0\n",
       "V18       0\n",
       "V19       0\n",
       "V20       0\n",
       "V21       0\n",
       "V22       0\n",
       "V23       0\n",
       "V24       0\n",
       "V25       0\n",
       "V26       0\n",
       "V27       0\n",
       "V28       0\n",
       "Amount    0\n",
       "Class     0\n",
       "dtype: int64"
      ]
     },
     "execution_count": 7,
     "metadata": {},
     "output_type": "execute_result"
    }
   ],
   "source": [
    "df.isnull().sum()"
   ]
  },
  {
   "cell_type": "code",
   "execution_count": 8,
   "metadata": {
    "execution": {
     "iopub.execute_input": "2023-09-15T20:29:17.199167Z",
     "iopub.status.busy": "2023-09-15T20:29:17.198613Z",
     "iopub.status.idle": "2023-09-15T20:29:18.302718Z",
     "shell.execute_reply": "2023-09-15T20:29:18.301229Z",
     "shell.execute_reply.started": "2023-09-15T20:29:17.199136Z"
    }
   },
   "outputs": [
    {
     "data": {
      "text/plain": [
       "1081"
      ]
     },
     "execution_count": 8,
     "metadata": {},
     "output_type": "execute_result"
    }
   ],
   "source": [
    "df.duplicated().sum()"
   ]
  },
  {
   "cell_type": "code",
   "execution_count": 9,
   "metadata": {
    "execution": {
     "iopub.execute_input": "2023-09-15T20:29:18.304537Z",
     "iopub.status.busy": "2023-09-15T20:29:18.304176Z",
     "iopub.status.idle": "2023-09-15T20:29:18.358461Z",
     "shell.execute_reply": "2023-09-15T20:29:18.357059Z",
     "shell.execute_reply.started": "2023-09-15T20:29:18.304507Z"
    }
   },
   "outputs": [],
   "source": [
    "df_copy = df.copy()"
   ]
  },
  {
   "cell_type": "code",
   "execution_count": 10,
   "metadata": {
    "execution": {
     "iopub.execute_input": "2023-09-15T20:29:18.361950Z",
     "iopub.status.busy": "2023-09-15T20:29:18.360983Z",
     "iopub.status.idle": "2023-09-15T20:29:19.335105Z",
     "shell.execute_reply": "2023-09-15T20:29:19.333762Z",
     "shell.execute_reply.started": "2023-09-15T20:29:18.361892Z"
    }
   },
   "outputs": [],
   "source": [
    "df.drop_duplicates(inplace = True)"
   ]
  },
  {
   "cell_type": "code",
   "execution_count": 11,
   "metadata": {
    "execution": {
     "iopub.execute_input": "2023-09-15T20:29:19.337087Z",
     "iopub.status.busy": "2023-09-15T20:29:19.336745Z",
     "iopub.status.idle": "2023-09-15T20:29:20.535240Z",
     "shell.execute_reply": "2023-09-15T20:29:20.533892Z",
     "shell.execute_reply.started": "2023-09-15T20:29:19.337058Z"
    }
   },
   "outputs": [
    {
     "data": {
      "text/plain": [
       "0"
      ]
     },
     "execution_count": 11,
     "metadata": {},
     "output_type": "execute_result"
    }
   ],
   "source": [
    "df.duplicated().sum()"
   ]
  },
  {
   "cell_type": "markdown",
   "metadata": {},
   "source": [
    "# 5. Few Visuals"
   ]
  },
  {
   "cell_type": "code",
   "execution_count": 12,
   "metadata": {
    "execution": {
     "iopub.execute_input": "2023-09-15T20:29:20.537170Z",
     "iopub.status.busy": "2023-09-15T20:29:20.536803Z",
     "iopub.status.idle": "2023-09-15T20:29:21.952788Z",
     "shell.execute_reply": "2023-09-15T20:29:21.951162Z",
     "shell.execute_reply.started": "2023-09-15T20:29:20.537137Z"
    }
   },
   "outputs": [
    {
     "data": {
      "text/plain": [
       "<Axes: >"
      ]
     },
     "execution_count": 12,
     "metadata": {},
     "output_type": "execute_result"
    },
    {
     "data": {
      "image/png": "[encoded data removed]",
      "text/plain": [
       "<Figure size 640x480 with 2 Axes>"
      ]
     },
     "metadata": {},
     "output_type": "display_data"
    }
   ],
   "source": [
    "sns.heatmap(df.corr(), cmap = 'crest', linewidth=.5)"
   ]
  },
  {
   "cell_type": "code",
   "execution_count": 13,
   "metadata": {
    "execution": {
     "iopub.execute_input": "2023-09-15T20:29:21.954762Z",
     "iopub.status.busy": "2023-09-15T20:29:21.954361Z",
     "iopub.status.idle": "2023-09-15T20:29:22.776934Z",
     "shell.execute_reply": "2023-09-15T20:29:22.775299Z",
     "shell.execute_reply.started": "2023-09-15T20:29:21.954729Z"
    }
   },
   "outputs": [
    {
     "data": {
      "text/plain": [
       "Time     -0.012359\n",
       "V1       -0.094486\n",
       "V2        0.084624\n",
       "V3       -0.182322\n",
       "V4        0.129326\n",
       "V5       -0.087812\n",
       "V6       -0.043915\n",
       "V7       -0.172347\n",
       "V8        0.033068\n",
       "V9       -0.094021\n",
       "V10      -0.206971\n",
       "V11       0.149067\n",
       "V12      -0.250711\n",
       "V13      -0.003897\n",
       "V14      -0.293375\n",
       "V15      -0.003300\n",
       "V16      -0.187186\n",
       "V17      -0.313498\n",
       "V18      -0.105340\n",
       "V19       0.033631\n",
       "V20       0.021486\n",
       "V21       0.026357\n",
       "V22       0.004887\n",
       "V23      -0.006333\n",
       "V24      -0.007210\n",
       "V25       0.003202\n",
       "V26       0.004265\n",
       "V27       0.021892\n",
       "V28       0.009682\n",
       "Amount    0.005777\n",
       "Class     1.000000\n",
       "Name: Class, dtype: float64"
      ]
     },
     "execution_count": 13,
     "metadata": {},
     "output_type": "execute_result"
    }
   ],
   "source": [
    "df.corr()['Class']"
   ]
  },
  {
   "cell_type": "code",
   "execution_count": 14,
   "metadata": {
    "execution": {
     "iopub.execute_input": "2023-09-15T20:29:22.779216Z",
     "iopub.status.busy": "2023-09-15T20:29:22.778829Z",
     "iopub.status.idle": "2023-09-15T20:29:24.256619Z",
     "shell.execute_reply": "2023-09-15T20:29:24.255072Z",
     "shell.execute_reply.started": "2023-09-15T20:29:22.779183Z"
    }
   },
   "outputs": [
    {
     "data": {
      "text/plain": [
       "<seaborn.axisgrid.FacetGrid at 0x1cca0654590>"
      ]
     },
     "execution_count": 14,
     "metadata": {},
     "output_type": "execute_result"
    },
    {
     "data": {
      "image/png": "[encoded data removed]",
      "text/plain": [
       "<Figure size 500x500 with 1 Axes>"
      ]
     },
     "metadata": {},
     "output_type": "display_data"
    }
   ],
   "source": [
    "sns.displot(data = df, x = 'Amount', y = 'Class')"
   ]
  },
  {
   "cell_type": "code",
   "execution_count": 15,
   "metadata": {
    "execution": {
     "iopub.execute_input": "2023-09-15T20:29:24.263638Z",
     "iopub.status.busy": "2023-09-15T20:29:24.263147Z",
     "iopub.status.idle": "2023-09-15T20:29:25.696047Z",
     "shell.execute_reply": "2023-09-15T20:29:25.694324Z",
     "shell.execute_reply.started": "2023-09-15T20:29:24.263602Z"
    }
   },
   "outputs": [
    {
     "data": {
      "image/png": "[encoded data removed]",
      "text/plain": [
       "<Figure size 1200x800 with 1 Axes>"
      ]
     },
     "metadata": {},
     "output_type": "display_data"
    }
   ],
   "source": [
    "correlation_matrix = df.corr()\n",
    "\n",
    "plt.figure(figsize=(12, 8))\n",
    "sns.barplot(x=correlation_matrix.index, y=correlation_matrix['Class'], palette='coolwarm')\n",
    "plt.xticks(rotation=90)\n",
    "plt.title('Correlation with Class')\n",
    "plt.xlabel('Features')\n",
    "plt.ylabel('Correlation')\n",
    "plt.show()"
   ]
  },
  {
   "cell_type": "code",
   "execution_count": 16,
   "metadata": {
    "execution": {
     "iopub.execute_input": "2023-09-15T20:29:25.699004Z",
     "iopub.status.busy": "2023-09-15T20:29:25.698440Z",
     "iopub.status.idle": "2023-09-15T20:29:25.711481Z",
     "shell.execute_reply": "2023-09-15T20:29:25.710100Z",
     "shell.execute_reply.started": "2023-09-15T20:29:25.698958Z"
    }
   },
   "outputs": [
    {
     "data": {
      "text/plain": [
       "0    283253\n",
       "1       473\n",
       "Name: Class, dtype: int64"
      ]
     },
     "execution_count": 16,
     "metadata": {},
     "output_type": "execute_result"
    }
   ],
   "source": [
    "df['Class'].value_counts()"
   ]
  },
  {
   "cell_type": "code",
   "execution_count": 17,
   "metadata": {
    "execution": {
     "iopub.execute_input": "2023-09-15T20:29:25.713148Z",
     "iopub.status.busy": "2023-09-15T20:29:25.712756Z",
     "iopub.status.idle": "2023-09-15T20:29:25.875186Z",
     "shell.execute_reply": "2023-09-15T20:29:25.873614Z",
     "shell.execute_reply.started": "2023-09-15T20:29:25.713084Z"
    }
   },
   "outputs": [
    {
     "data": {
      "text/plain": [
       "<Axes: ylabel='Class'>"
      ]
     },
     "execution_count": 17,
     "metadata": {},
     "output_type": "execute_result"
    },
    {
     "data": {
      "image/png": "[encoded data removed]",
      "text/plain": [
       "<Figure size 640x480 with 1 Axes>"
      ]
     },
     "metadata": {},
     "output_type": "display_data"
    }
   ],
   "source": [
    "df['Class'].value_counts().plot(kind = 'pie', autopct='%1.1f%%')"
   ]
  },
  {
   "cell_type": "markdown",
   "metadata": {},
   "source": [
    "# 6. Modelling"
   ]
  },
  {
   "cell_type": "code",
   "execution_count": 18,
   "metadata": {
    "execution": {
     "iopub.execute_input": "2023-09-15T20:29:25.879675Z",
     "iopub.status.busy": "2023-09-15T20:29:25.877717Z",
     "iopub.status.idle": "2023-09-15T20:29:25.940351Z",
     "shell.execute_reply": "2023-09-15T20:29:25.938599Z",
     "shell.execute_reply.started": "2023-09-15T20:29:25.879592Z"
    }
   },
   "outputs": [],
   "source": [
    "x = df.drop(columns=['Class'])\n",
    "y = df['Class']"
   ]
  },
  {
   "cell_type": "code",
   "execution_count": 19,
   "metadata": {
    "execution": {
     "iopub.execute_input": "2023-09-15T20:29:25.945217Z",
     "iopub.status.busy": "2023-09-15T20:29:25.943192Z",
     "iopub.status.idle": "2023-09-15T20:29:26.746678Z",
     "shell.execute_reply": "2023-09-15T20:29:26.745041Z",
     "shell.execute_reply.started": "2023-09-15T20:29:25.945150Z"
    }
   },
   "outputs": [],
   "source": [
    "sm=SMOTE()\n",
    "x_sm,y_sm=sm.fit_resample(x,y)"
   ]
  },
  {
   "cell_type": "code",
   "execution_count": 20,
   "metadata": {
    "execution": {
     "iopub.execute_input": "2023-09-15T20:29:26.748638Z",
     "iopub.status.busy": "2023-09-15T20:29:26.748251Z",
     "iopub.status.idle": "2023-09-15T20:29:26.755817Z",
     "shell.execute_reply": "2023-09-15T20:29:26.754444Z",
     "shell.execute_reply.started": "2023-09-15T20:29:26.748602Z"
    }
   },
   "outputs": [
    {
     "name": "stdout",
     "output_type": "stream",
     "text": [
      "(566506, 30)\n",
      "(566506,)\n"
     ]
    }
   ],
   "source": [
    "print(x_sm.shape)\n",
    "print(y_sm.shape)"
   ]
  },
  {
   "cell_type": "code",
   "execution_count": 21,
   "metadata": {
    "execution": {
     "iopub.execute_input": "2023-09-15T20:29:26.758156Z",
     "iopub.status.busy": "2023-09-15T20:29:26.757752Z",
     "iopub.status.idle": "2023-09-15T20:29:26.771053Z",
     "shell.execute_reply": "2023-09-15T20:29:26.769392Z",
     "shell.execute_reply.started": "2023-09-15T20:29:26.758124Z"
    }
   },
   "outputs": [],
   "source": [
    "scaler = StandardScaler()"
   ]
  },
  {
   "cell_type": "code",
   "execution_count": 22,
   "metadata": {
    "execution": {
     "iopub.execute_input": "2023-09-15T20:29:26.776088Z",
     "iopub.status.busy": "2023-09-15T20:29:26.775596Z",
     "iopub.status.idle": "2023-09-15T20:29:27.263920Z",
     "shell.execute_reply": "2023-09-15T20:29:27.261750Z",
     "shell.execute_reply.started": "2023-09-15T20:29:26.776052Z"
    }
   },
   "outputs": [],
   "source": [
    "x_scaled = scaler.fit_transform(x_sm)"
   ]
  },
  {
   "cell_type": "code",
   "execution_count": 23,
   "metadata": {
    "execution": {
     "iopub.execute_input": "2023-09-15T20:29:27.266352Z",
     "iopub.status.busy": "2023-09-15T20:29:27.265313Z",
     "iopub.status.idle": "2023-09-15T20:29:27.743795Z",
     "shell.execute_reply": "2023-09-15T20:29:27.742269Z",
     "shell.execute_reply.started": "2023-09-15T20:29:27.266310Z"
    }
   },
   "outputs": [],
   "source": [
    "X_train, X_test, y_train, y_test = train_test_split(x_scaled, y_sm, test_size=0.25, random_state=1)"
   ]
  },
  {
   "cell_type": "markdown",
   "metadata": {},
   "source": [
    "### Logistic Regression"
   ]
  },
  {
   "cell_type": "code",
   "execution_count": 24,
   "metadata": {
    "execution": {
     "iopub.execute_input": "2023-09-15T20:29:27.746492Z",
     "iopub.status.busy": "2023-09-15T20:29:27.746082Z",
     "iopub.status.idle": "2023-09-15T20:29:27.752399Z",
     "shell.execute_reply": "2023-09-15T20:29:27.750944Z",
     "shell.execute_reply.started": "2023-09-15T20:29:27.746460Z"
    }
   },
   "outputs": [],
   "source": [
    "lr = LogisticRegression()"
   ]
  },
  {
   "cell_type": "code",
   "execution_count": 25,
   "metadata": {
    "execution": {
     "iopub.execute_input": "2023-09-15T20:29:27.754703Z",
     "iopub.status.busy": "2023-09-15T20:29:27.754277Z",
     "iopub.status.idle": "2023-09-15T20:29:36.184469Z",
     "shell.execute_reply": "2023-09-15T20:29:36.183215Z",
     "shell.execute_reply.started": "2023-09-15T20:29:27.754635Z"
    }
   },
   "outputs": [
    {
     "data": {
      "text/html": [
       "<style>#sk-container-id-1 {color: black;background-color: white;}#sk-container-id-1 pre{padding: 0;}#sk-container-id-1 div.sk-toggleable {background-color: white;}#sk-container-id-1 label.sk-toggleable__label {cursor: pointer;display: block;width: 100%;margin-bottom: 0;padding: 0.3em;box-sizing: border-box;text-align: center;}#sk-container-id-1 label.sk-toggleable__label-arrow:before {content: \"▸\";float: left;margin-right: 0.25em;color: #696969;}#sk-container-id-1 label.sk-toggleable__label-arrow:hover:before {color: black;}#sk-container-id-1 div.sk-estimator:hover label.sk-toggleable__label-arrow:before {color: black;}#sk-container-id-1 div.sk-toggleable__content {max-height: 0;max-width: 0;overflow: hidden;text-align: left;background-color: #f0f8ff;}#sk-container-id-1 div.sk-toggleable__content pre {margin: 0.2em;color: black;border-radius: 0.25em;background-color: #f0f8ff;}#sk-container-id-1 input.sk-toggleable__control:checked~div.sk-toggleable__content {max-height: 200px;max-width: 100%;overflow: auto;}#sk-container-id-1 input.sk-toggleable__control:checked~label.sk-toggleable__label-arrow:before {content: \"▾\";}#sk-container-id-1 div.sk-estimator input.sk-toggleable__control:checked~label.sk-toggleable__label {background-color: #d4ebff;}#sk-container-id-1 div.sk-label input.sk-toggleable__control:checked~label.sk-toggleable__label {background-color: #d4ebff;}#sk-container-id-1 input.sk-hidden--visually {border: 0;clip: rect(1px 1px 1px 1px);clip: rect(1px, 1px, 1px, 1px);height: 1px;margin: -1px;overflow: hidden;padding: 0;position: absolute;width: 1px;}#sk-container-id-1 div.sk-estimator {font-family: monospace;background-color: #f0f8ff;border: 1px dotted black;border-radius: 0.25em;box-sizing: border-box;margin-bottom: 0.5em;}#sk-container-id-1 div.sk-estimator:hover {background-color: #d4ebff;}#sk-container-id-1 div.sk-parallel-item::after {content: \"\";width: 100%;border-bottom: 1px solid gray;flex-grow: 1;}#sk-container-id-1 div.sk-label:hover label.sk-toggleable__label {background-color: #d4ebff;}#sk-container-id-1 div.sk-serial::before {content: \"\";position: absolute;border-left: 1px solid gray;box-sizing: border-box;top: 0;bottom: 0;left: 50%;z-index: 0;}#sk-container-id-1 div.sk-serial {display: flex;flex-direction: column;align-items: center;background-color: white;padding-right: 0.2em;padding-left: 0.2em;position: relative;}#sk-container-id-1 div.sk-item {position: relative;z-index: 1;}#sk-container-id-1 div.sk-parallel {display: flex;align-items: stretch;justify-content: center;background-color: white;position: relative;}#sk-container-id-1 div.sk-item::before, #sk-container-id-1 div.sk-parallel-item::before {content: \"\";position: absolute;border-left: 1px solid gray;box-sizing: border-box;top: 0;bottom: 0;left: 50%;z-index: -1;}#sk-container-id-1 div.sk-parallel-item {display: flex;flex-direction: column;z-index: 1;position: relative;background-color: white;}#sk-container-id-1 div.sk-parallel-item:first-child::after {align-self: flex-end;width: 50%;}#sk-container-id-1 div.sk-parallel-item:last-child::after {align-self: flex-start;width: 50%;}#sk-container-id-1 div.sk-parallel-item:only-child::after {width: 0;}#sk-container-id-1 div.sk-dashed-wrapped {border: 1px dashed gray;margin: 0 0.4em 0.5em 0.4em;box-sizing: border-box;padding-bottom: 0.4em;background-color: white;}#sk-container-id-1 div.sk-label label {font-family: monospace;font-weight: bold;display: inline-block;line-height: 1.2em;}#sk-container-id-1 div.sk-label-container {text-align: center;}#sk-container-id-1 div.sk-container {/* jupyter's `normalize.less` sets `[hidden] { display: none; }` but bootstrap.min.css set `[hidden] { display: none !important; }` so we also need the `!important` here to be able to override the default hidden behavior on the sphinx rendered scikit-learn.org. See: https://github.com/scikit-learn/scikit-learn/issues/21755 */display: inline-block !important;position: relative;}#sk-container-id-1 div.sk-text-repr-fallback {display: none;}</style><div id=\"sk-container-id-1\" class=\"sk-top-container\"><div class=\"sk-text-repr-fallback\"><pre>LogisticRegression()</pre><b>In a Jupyter environment, please rerun this cell to show the HTML representation or trust the notebook. <br />On GitHub, the HTML representation is unable to render, please try loading this page with nbviewer.org.</b></div><div class=\"sk-container\" hidden><div class=\"sk-item\"><div class=\"sk-estimator sk-toggleable\"><input class=\"sk-toggleable__control sk-hidden--visually\" id=\"sk-estimator-id-1\" type=\"checkbox\" checked><label for=\"sk-estimator-id-1\" class=\"sk-toggleable__label sk-toggleable__label-arrow\">LogisticRegression</label><div class=\"sk-toggleable__content\"><pre>LogisticRegression()</pre></div></div></div></div></div>"
      ],
      "text/plain": [
       "LogisticRegression()"
      ]
     },
     "execution_count": 25,
     "metadata": {},
     "output_type": "execute_result"
    }
   ],
   "source": [
    "lr.fit(X_train, y_train)"
   ]
  },
  {
   "cell_type": "code",
   "execution_count": 26,
   "metadata": {
    "execution": {
     "iopub.execute_input": "2023-09-15T20:29:36.187237Z",
     "iopub.status.busy": "2023-09-15T20:29:36.186225Z",
     "iopub.status.idle": "2023-09-15T20:29:36.209623Z",
     "shell.execute_reply": "2023-09-15T20:29:36.207802Z",
     "shell.execute_reply.started": "2023-09-15T20:29:36.187187Z"
    }
   },
   "outputs": [],
   "source": [
    "pred_lr = lr.predict(X_test)"
   ]
  },
  {
   "cell_type": "code",
   "execution_count": 27,
   "metadata": {
    "execution": {
     "iopub.execute_input": "2023-09-15T20:29:36.213152Z",
     "iopub.status.busy": "2023-09-15T20:29:36.212208Z",
     "iopub.status.idle": "2023-09-15T20:29:36.253318Z",
     "shell.execute_reply": "2023-09-15T20:29:36.251403Z",
     "shell.execute_reply.started": "2023-09-15T20:29:36.213105Z"
    }
   },
   "outputs": [],
   "source": [
    "score_lr = accuracy_score(y_test, pred_lr)"
   ]
  },
  {
   "cell_type": "code",
   "execution_count": 28,
   "metadata": {
    "execution": {
     "iopub.execute_input": "2023-09-15T20:29:36.256989Z",
     "iopub.status.busy": "2023-09-15T20:29:36.256033Z",
     "iopub.status.idle": "2023-09-15T20:29:36.266566Z",
     "shell.execute_reply": "2023-09-15T20:29:36.265172Z",
     "shell.execute_reply.started": "2023-09-15T20:29:36.256940Z"
    }
   },
   "outputs": [
    {
     "data": {
      "text/plain": [
       "0.9795236783946564"
      ]
     },
     "execution_count": 28,
     "metadata": {},
     "output_type": "execute_result"
    }
   ],
   "source": [
    "score_lr"
   ]
  },
  {
   "cell_type": "code",
   "execution_count": 29,
   "metadata": {
    "execution": {
     "iopub.execute_input": "2023-09-15T20:29:36.270340Z",
     "iopub.status.busy": "2023-09-15T20:29:36.269066Z",
     "iopub.status.idle": "2023-09-15T20:29:36.594355Z",
     "shell.execute_reply": "2023-09-15T20:29:36.593413Z",
     "shell.execute_reply.started": "2023-09-15T20:29:36.270292Z"
    }
   },
   "outputs": [
    {
     "name": "stdout",
     "output_type": "stream",
     "text": [
      "              precision    recall  f1-score   support\n",
      "\n",
      "           0       0.97      0.99      0.98     70748\n",
      "           1       0.99      0.97      0.98     70879\n",
      "\n",
      "    accuracy                           0.98    141627\n",
      "   macro avg       0.98      0.98      0.98    141627\n",
      "weighted avg       0.98      0.98      0.98    141627\n",
      "\n"
     ]
    }
   ],
   "source": [
    "report_lr = classification_report(y_test, pred_lr)\n",
    "print(report_lr)"
   ]
  },
  {
   "cell_type": "code",
   "execution_count": 30,
   "metadata": {
    "execution": {
     "iopub.execute_input": "2023-09-15T20:29:36.596489Z",
     "iopub.status.busy": "2023-09-15T20:29:36.595889Z",
     "iopub.status.idle": "2023-09-15T20:29:36.632830Z",
     "shell.execute_reply": "2023-09-15T20:29:36.631499Z",
     "shell.execute_reply.started": "2023-09-15T20:29:36.596455Z"
    }
   },
   "outputs": [],
   "source": [
    "lr_matrix = confusion_matrix(y_test, pred_lr)"
   ]
  },
  {
   "cell_type": "code",
   "execution_count": 31,
   "metadata": {
    "execution": {
     "iopub.execute_input": "2023-09-15T20:29:36.634656Z",
     "iopub.status.busy": "2023-09-15T20:29:36.634282Z",
     "iopub.status.idle": "2023-09-15T20:29:36.968899Z",
     "shell.execute_reply": "2023-09-15T20:29:36.967364Z",
     "shell.execute_reply.started": "2023-09-15T20:29:36.634623Z"
    }
   },
   "outputs": [
    {
     "data": {
      "text/plain": [
       "<Axes: >"
      ]
     },
     "execution_count": 31,
     "metadata": {},
     "output_type": "execute_result"
    },
    {
     "data": {
      "image/png": "[encoded data removed]",
      "text/plain": [
       "<Figure size 640x480 with 2 Axes>"
      ]
     },
     "metadata": {},
     "output_type": "display_data"
    }
   ],
   "source": [
    "sns.heatmap(lr_matrix)"
   ]
  },
  {
   "cell_type": "markdown",
   "metadata": {},
   "source": [
    "### Random Forest Classifier"
   ]
  },
  {
   "cell_type": "code",
   "execution_count": 32,
   "metadata": {
    "execution": {
     "iopub.execute_input": "2023-09-15T20:29:36.971031Z",
     "iopub.status.busy": "2023-09-15T20:29:36.970592Z",
     "iopub.status.idle": "2023-09-15T20:29:36.977352Z",
     "shell.execute_reply": "2023-09-15T20:29:36.975869Z",
     "shell.execute_reply.started": "2023-09-15T20:29:36.970999Z"
    }
   },
   "outputs": [],
   "source": [
    "rfc = RandomForestClassifier()"
   ]
  },
  {
   "cell_type": "code",
   "execution_count": null,
   "metadata": {
    "execution": {
     "iopub.execute_input": "2023-09-15T20:29:36.980537Z",
     "iopub.status.busy": "2023-09-15T20:29:36.979587Z",
     "iopub.status.idle": "2023-09-15T20:41:23.036508Z",
     "shell.execute_reply": "2023-09-15T20:41:23.034946Z",
     "shell.execute_reply.started": "2023-09-15T20:29:36.980487Z"
    }
   },
   "outputs": [],
   "source": [
    "rfc.fit(X_train, y_train)"
   ]
  },
  {
   "cell_type": "code",
   "execution_count": null,
   "metadata": {
    "execution": {
     "iopub.execute_input": "2023-09-15T20:41:23.039251Z",
     "iopub.status.busy": "2023-09-15T20:41:23.038827Z",
     "iopub.status.idle": "2023-09-15T20:41:24.974827Z",
     "shell.execute_reply": "2023-09-15T20:41:24.973536Z",
     "shell.execute_reply.started": "2023-09-15T20:41:23.039217Z"
    }
   },
   "outputs": [],
   "source": [
    "pred_rfc = rfc.predict(X_test)"
   ]
  },
  {
   "cell_type": "code",
   "execution_count": null,
   "metadata": {
    "execution": {
     "iopub.execute_input": "2023-09-15T20:41:24.978135Z",
     "iopub.status.busy": "2023-09-15T20:41:24.977763Z",
     "iopub.status.idle": "2023-09-15T20:41:25.001725Z",
     "shell.execute_reply": "2023-09-15T20:41:24.999829Z",
     "shell.execute_reply.started": "2023-09-15T20:41:24.978103Z"
    }
   },
   "outputs": [],
   "source": [
    "score_rfc = accuracy_score(y_test, pred_rfc)\n",
    "print(score_rfc)"
   ]
  },
  {
   "cell_type": "code",
   "execution_count": null,
   "metadata": {
    "execution": {
     "iopub.execute_input": "2023-09-15T20:41:25.006855Z",
     "iopub.status.busy": "2023-09-15T20:41:25.004245Z",
     "iopub.status.idle": "2023-09-15T20:41:25.317401Z",
     "shell.execute_reply": "2023-09-15T20:41:25.315852Z",
     "shell.execute_reply.started": "2023-09-15T20:41:25.005938Z"
    }
   },
   "outputs": [],
   "source": [
    "rfc_report = classification_report(y_test, pred_rfc)\n",
    "print(rfc_report)"
   ]
  },
  {
   "cell_type": "markdown",
   "metadata": {},
   "source": [
    "### Decision Tree "
   ]
  },
  {
   "cell_type": "code",
   "execution_count": null,
   "metadata": {
    "execution": {
     "iopub.execute_input": "2023-09-15T20:41:25.320036Z",
     "iopub.status.busy": "2023-09-15T20:41:25.319589Z",
     "iopub.status.idle": "2023-09-15T20:41:25.325433Z",
     "shell.execute_reply": "2023-09-15T20:41:25.324187Z",
     "shell.execute_reply.started": "2023-09-15T20:41:25.320001Z"
    }
   },
   "outputs": [],
   "source": [
    "dtc = DecisionTreeClassifier()"
   ]
  },
  {
   "cell_type": "code",
   "execution_count": null,
   "metadata": {
    "execution": {
     "iopub.execute_input": "2023-09-15T20:41:25.328127Z",
     "iopub.status.busy": "2023-09-15T20:41:25.327308Z",
     "iopub.status.idle": "2023-09-15T20:42:43.231745Z",
     "shell.execute_reply": "2023-09-15T20:42:43.230438Z",
     "shell.execute_reply.started": "2023-09-15T20:41:25.328082Z"
    }
   },
   "outputs": [],
   "source": [
    "dtc.fit(X_train, y_train)"
   ]
  },
  {
   "cell_type": "code",
   "execution_count": null,
   "metadata": {
    "execution": {
     "iopub.execute_input": "2023-09-15T20:42:43.234983Z",
     "iopub.status.busy": "2023-09-15T20:42:43.233590Z",
     "iopub.status.idle": "2023-09-15T20:42:43.269486Z",
     "shell.execute_reply": "2023-09-15T20:42:43.268015Z",
     "shell.execute_reply.started": "2023-09-15T20:42:43.234914Z"
    }
   },
   "outputs": [],
   "source": [
    "pred_dtc = dtc.predict(X_test)"
   ]
  },
  {
   "cell_type": "code",
   "execution_count": null,
   "metadata": {
    "execution": {
     "iopub.execute_input": "2023-09-15T20:42:43.272059Z",
     "iopub.status.busy": "2023-09-15T20:42:43.271008Z",
     "iopub.status.idle": "2023-09-15T20:42:43.294497Z",
     "shell.execute_reply": "2023-09-15T20:42:43.293042Z",
     "shell.execute_reply.started": "2023-09-15T20:42:43.272023Z"
    }
   },
   "outputs": [],
   "source": [
    "score_dtc = accuracy_score(y_test, pred_dtc)\n",
    "print(score_dtc)"
   ]
  },
  {
   "cell_type": "code",
   "execution_count": null,
   "metadata": {
    "execution": {
     "iopub.execute_input": "2023-09-15T20:42:43.296529Z",
     "iopub.status.busy": "2023-09-15T20:42:43.296182Z",
     "iopub.status.idle": "2023-09-15T20:42:43.587723Z",
     "shell.execute_reply": "2023-09-15T20:42:43.586375Z",
     "shell.execute_reply.started": "2023-09-15T20:42:43.296496Z"
    }
   },
   "outputs": [],
   "source": [
    "report_dtc = classification_report(y_test, pred_dtc)\n",
    "print(report_dtc)"
   ]
  },
  {
   "cell_type": "code",
   "execution_count": null,
   "metadata": {
    "execution": {
     "iopub.execute_input": "2023-09-15T20:43:14.224407Z",
     "iopub.status.busy": "2023-09-15T20:43:14.223934Z",
     "iopub.status.idle": "2023-09-15T20:43:14.231007Z",
     "shell.execute_reply": "2023-09-15T20:43:14.229740Z",
     "shell.execute_reply.started": "2023-09-15T20:43:14.224372Z"
    }
   },
   "outputs": [],
   "source": [
    "d = {'Models': ['Logistic Regression', 'Random Forest', 'Decision Tree'],\n",
    "    'Accuracy' : ['97.87%','99.98%', '99.82%']\n",
    "    }"
   ]
  },
  {
   "cell_type": "code",
   "execution_count": null,
   "metadata": {
    "execution": {
     "iopub.execute_input": "2023-09-15T20:43:16.253910Z",
     "iopub.status.busy": "2023-09-15T20:43:16.253487Z",
     "iopub.status.idle": "2023-09-15T20:43:16.261362Z",
     "shell.execute_reply": "2023-09-15T20:43:16.259739Z",
     "shell.execute_reply.started": "2023-09-15T20:43:16.253878Z"
    }
   },
   "outputs": [],
   "source": [
    "result = pd.DataFrame(d)\n"
   ]
  },
  {
   "cell_type": "markdown",
   "metadata": {},
   "source": [
    "# 7. Conclusion"
   ]
  },
  {
   "cell_type": "code",
   "execution_count": null,
   "metadata": {
    "execution": {
     "iopub.execute_input": "2023-09-15T20:43:19.805159Z",
     "iopub.status.busy": "2023-09-15T20:43:19.803487Z",
     "iopub.status.idle": "2023-09-15T20:43:19.816826Z",
     "shell.execute_reply": "2023-09-15T20:43:19.815537Z",
     "shell.execute_reply.started": "2023-09-15T20:43:19.805115Z"
    }
   },
   "outputs": [],
   "source": [
    "result"
   ]
  },
  {
   "cell_type": "code",
   "execution_count": null,
   "metadata": {},
   "outputs": [],
   "source": []
  }
 ],
 "metadata": {
  "kernelspec": {
   "display_name": "Python 3 (ipykernel)",
   "language": "python",
   "name": "python3"
  },
  "language_info": {
   "codemirror_mode": {
    "name": "ipython",
    "version": 3
   },
   "file_extension": ".py",
   "mimetype": "text/x-python",
   "name": "python",
   "nbconvert_exporter": "python",
   "pygments_lexer": "ipython3",
   "version": "3.11.3"
  }
 },
 "nbformat": 4,
 "nbformat_minor": 4
}
